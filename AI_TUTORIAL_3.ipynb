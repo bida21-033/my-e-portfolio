{
  "cells": [
    {
      "cell_type": "markdown",
      "metadata": {
        "id": "tIbMDfgcsf-L"
      },
      "source": [
        "DATA LOADING"
      ]
    },
    {
      "cell_type": "code",
      "execution_count": null,
      "metadata": {
        "colab": {
          "base_uri": "https://localhost:8080/"
        },
        "id": "P7QYNUKSsXlU",
        "outputId": "e00e9d41-bf50-481a-d594-c4b0edaf2e5a"
      },
      "outputs": [
        {
          "name": "stdout",
          "output_type": "stream",
          "text": [
            "Requirement already satisfied: pandas in /usr/local/lib/python3.10/dist-packages (2.2.2)\n",
            "Requirement already satisfied: numpy in /usr/local/lib/python3.10/dist-packages (1.26.4)\n",
            "Requirement already satisfied: matplotlib in /usr/local/lib/python3.10/dist-packages (3.7.1)\n",
            "Requirement already satisfied: seaborn in /usr/local/lib/python3.10/dist-packages (0.13.1)\n",
            "Requirement already satisfied: scikit-learn in /usr/local/lib/python3.10/dist-packages (1.5.2)\n",
            "Requirement already satisfied: python-dateutil>=2.8.2 in /usr/local/lib/python3.10/dist-packages (from pandas) (2.8.2)\n",
            "Requirement already satisfied: pytz>=2020.1 in /usr/local/lib/python3.10/dist-packages (from pandas) (2024.2)\n",
            "Requirement already satisfied: tzdata>=2022.7 in /usr/local/lib/python3.10/dist-packages (from pandas) (2024.2)\n",
            "Requirement already satisfied: contourpy>=1.0.1 in /usr/local/lib/python3.10/dist-packages (from matplotlib) (1.3.0)\n",
            "Requirement already satisfied: cycler>=0.10 in /usr/local/lib/python3.10/dist-packages (from matplotlib) (0.12.1)\n",
            "Requirement already satisfied: fonttools>=4.22.0 in /usr/local/lib/python3.10/dist-packages (from matplotlib) (4.54.1)\n",
            "Requirement already satisfied: kiwisolver>=1.0.1 in /usr/local/lib/python3.10/dist-packages (from matplotlib) (1.4.7)\n",
            "Requirement already satisfied: packaging>=20.0 in /usr/local/lib/python3.10/dist-packages (from matplotlib) (24.1)\n",
            "Requirement already satisfied: pillow>=6.2.0 in /usr/local/lib/python3.10/dist-packages (from matplotlib) (10.4.0)\n",
            "Requirement already satisfied: pyparsing>=2.3.1 in /usr/local/lib/python3.10/dist-packages (from matplotlib) (3.1.4)\n",
            "Requirement already satisfied: scipy>=1.6.0 in /usr/local/lib/python3.10/dist-packages (from scikit-learn) (1.13.1)\n",
            "Requirement already satisfied: joblib>=1.2.0 in /usr/local/lib/python3.10/dist-packages (from scikit-learn) (1.4.2)\n",
            "Requirement already satisfied: threadpoolctl>=3.1.0 in /usr/local/lib/python3.10/dist-packages (from scikit-learn) (3.5.0)\n",
            "Requirement already satisfied: six>=1.5 in /usr/local/lib/python3.10/dist-packages (from python-dateutil>=2.8.2->pandas) (1.16.0)\n"
          ]
        }
      ],
      "source": [
        "pip install pandas numpy matplotlib seaborn scikit-learn\n"
      ]
    },
    {
      "cell_type": "code",
      "execution_count": null,
      "metadata": {
        "colab": {
          "base_uri": "https://localhost:8080/"
        },
        "id": "hTR7rVIDs13Y",
        "outputId": "2c8b97ef-1a19-44a2-8253-809faeaac7cc"
      },
      "outputs": [
        {
          "name": "stdout",
          "output_type": "stream",
          "text": [
            "['bank-full.csv', 'bank-names.txt', 'bank.csv']\n",
            "   age           job  marital  education default  balance housing loan  \\\n",
            "0   58    management  married   tertiary      no     2143     yes   no   \n",
            "1   44    technician   single  secondary      no       29     yes   no   \n",
            "2   33  entrepreneur  married  secondary      no        2     yes  yes   \n",
            "3   47   blue-collar  married    unknown      no     1506     yes   no   \n",
            "4   33       unknown   single    unknown      no        1      no   no   \n",
            "\n",
            "   contact  day month  duration  campaign  pdays  previous poutcome   y  \n",
            "0  unknown    5   may       261         1     -1         0  unknown  no  \n",
            "1  unknown    5   may       151         1     -1         0  unknown  no  \n",
            "2  unknown    5   may        76         1     -1         0  unknown  no  \n",
            "3  unknown    5   may        92         1     -1         0  unknown  no  \n",
            "4  unknown    5   may       198         1     -1         0  unknown  no  \n"
          ]
        }
      ],
      "source": [
        "import pandas as pd\n",
        "import zipfile\n",
        "import requests\n",
        "import io\n",
        "\n",
        "# Load the dataset\n",
        "url = \"https://archive.ics.uci.edu/ml/machine-learning-databases/00222/bank.zip\"\n",
        "\n",
        "# Download the ZIP file\n",
        "response = requests.get(url)\n",
        "with zipfile.ZipFile(io.BytesIO(response.content)) as z:\n",
        "    # List files in the ZIP to see what’s available\n",
        "    print(z.namelist())\n",
        "\n",
        "    # Read the specific CSV file (e.g., 'bank-full.csv')\n",
        "    data = pd.read_csv(z.open('bank-full.csv'), sep=';')\n",
        "\n",
        "# Display the first few rows\n",
        "print(data.head())\n",
        "\n"
      ]
    },
    {
      "cell_type": "markdown",
      "metadata": {
        "id": "RqVwle87tZwV"
      },
      "source": [
        "DATA EXPLORATION"
      ]
    },
    {
      "cell_type": "code",
      "execution_count": null,
      "metadata": {
        "colab": {
          "base_uri": "https://localhost:8080/",
          "height": 1000
        },
        "id": "AFO8v2_WtdEQ",
        "outputId": "4537b576-57ce-4b6c-d177-9dfc5c3c1937"
      },
      "outputs": [
        {
          "name": "stdout",
          "output_type": "stream",
          "text": [
            "age          0\n",
            "job          0\n",
            "marital      0\n",
            "education    0\n",
            "default      0\n",
            "balance      0\n",
            "housing      0\n",
            "loan         0\n",
            "contact      0\n",
            "day          0\n",
            "month        0\n",
            "duration     0\n",
            "campaign     0\n",
            "pdays        0\n",
            "previous     0\n",
            "poutcome     0\n",
            "y            0\n",
            "dtype: int64\n",
            "age           int64\n",
            "job          object\n",
            "marital      object\n",
            "education    object\n",
            "default      object\n",
            "balance       int64\n",
            "housing      object\n",
            "loan         object\n",
            "contact      object\n",
            "day           int64\n",
            "month        object\n",
            "duration      int64\n",
            "campaign      int64\n",
            "pdays         int64\n",
            "previous      int64\n",
            "poutcome     object\n",
            "y            object\n",
            "dtype: object\n",
            "                job  marital  education default housing   loan   contact  \\\n",
            "count         45211    45211      45211   45211   45211  45211     45211   \n",
            "unique           12        3          4       2       2      2         3   \n",
            "top     blue-collar  married  secondary      no     yes     no  cellular   \n",
            "freq           9732    27214      23202   44396   25130  37967     29285   \n",
            "\n",
            "        month poutcome      y  \n",
            "count   45211    45211  45211  \n",
            "unique     12        4      2  \n",
            "top       may  unknown     no  \n",
            "freq    13766    36959  39922  \n",
            "                age        balance           day      duration      campaign  \\\n",
            "count  45211.000000   45211.000000  45211.000000  45211.000000  45211.000000   \n",
            "mean      40.936210    1362.272058     15.806419    258.163080      2.763841   \n",
            "std       10.618762    3044.765829      8.322476    257.527812      3.098021   \n",
            "min       18.000000   -8019.000000      1.000000      0.000000      1.000000   \n",
            "25%       33.000000      72.000000      8.000000    103.000000      1.000000   \n",
            "50%       39.000000     448.000000     16.000000    180.000000      2.000000   \n",
            "75%       48.000000    1428.000000     21.000000    319.000000      3.000000   \n",
            "max       95.000000  102127.000000     31.000000   4918.000000     63.000000   \n",
            "\n",
            "              pdays      previous  \n",
            "count  45211.000000  45211.000000  \n",
            "mean      40.197828      0.580323  \n",
            "std      100.128746      2.303441  \n",
            "min       -1.000000      0.000000  \n",
            "25%       -1.000000      0.000000  \n",
            "50%       -1.000000      0.000000  \n",
            "75%       -1.000000      0.000000  \n",
            "max      871.000000    275.000000  \n"
          ]
        },
        {
          "data": {
            "image/png": "[encoded data removed]",
            "text/plain": [
              "<Figure size 640x480 with 1 Axes>"
            ]
          },
          "metadata": {},
          "output_type": "display_data"
        },
        {
          "name": "stderr",
          "output_type": "stream",
          "text": [
            "/usr/local/lib/python3.10/dist-packages/seaborn/categorical.py:640: FutureWarning: SeriesGroupBy.grouper is deprecated and will be removed in a future version of pandas.\n",
            "  positions = grouped.grouper.result_index.to_numpy(dtype=float)\n"
          ]
        },
        {
          "data": {
            "image/png": "[encoded data removed]",
            "text/plain": [
              "<Figure size 640x480 with 1 Axes>"
            ]
          },
          "metadata": {},
          "output_type": "display_data"
        }
      ],
      "source": [
        "# Check for missing values\n",
        "print(data.isnull().sum())\n",
        "\n",
        "# Check data types\n",
        "print(data.dtypes)\n",
        "\n",
        "# Analyze categorical variables\n",
        "print(data.describe(include=['object']))\n",
        "\n",
        "# Analyze numerical variables\n",
        "print(data.describe())\n",
        "\n",
        "# Visualize data distributions\n",
        "import seaborn as sns\n",
        "import matplotlib.pyplot as plt\n",
        "\n",
        "# Example: Distribution of age\n",
        "sns.histplot(data['age'], bins=30, kde=True)\n",
        "plt.title('Age Distribution')\n",
        "plt.show()\n",
        "\n",
        "# Example: Relationship between age and subscription\n",
        "sns.boxplot(x='y', y='age', data=data)\n",
        "plt.title('Age vs Subscription')\n",
        "plt.show()\n"
      ]
    },
    {
      "cell_type": "markdown",
      "metadata": {
        "id": "YEGzkvTutlH3"
      },
      "source": [
        "DATA PREPROCESSING"
      ]
    },
    {
      "cell_type": "code",
      "execution_count": null,
      "metadata": {
        "id": "Gg-kFsM0tneY"
      },
      "outputs": [],
      "source": [
        "from sklearn.preprocessing import LabelEncoder, StandardScaler\n",
        "\n",
        "# Encoding categorical variables\n",
        "label_encoder = LabelEncoder()\n",
        "data['y'] = label_encoder.fit_transform(data['y'])\n",
        "\n",
        "# For other categorical features, you might want to use OneHotEncoder\n",
        "data = pd.get_dummies(data, drop_first=True)\n",
        "\n",
        "# Scale numeric features\n",
        "scaler = StandardScaler()\n",
        "numeric_columns = data.select_dtypes(include=['float64', 'int64']).columns\n",
        "data[numeric_columns] = scaler.fit_transform(data[numeric_columns])\n"
      ]
    },
    {
      "cell_type": "markdown",
      "metadata": {
        "id": "6YNw7Kvftshs"
      },
      "source": [
        "TRAIN-TEST SPLIT"
      ]
    },
    {
      "cell_type": "code",
      "execution_count": null,
      "metadata": {
        "id": "WM1dsPIptuzB"
      },
      "outputs": [],
      "source": [
        "from sklearn.model_selection import train_test_split\n",
        "\n",
        "X = data.drop('y', axis=1)  # Features\n",
        "y = data['y']  # Target variable\n",
        "\n",
        "X_train, X_test, y_train, y_test = train_test_split(X, y, test_size=0.2, random_state=42)\n"
      ]
    },
    {
      "cell_type": "markdown",
      "metadata": {
        "id": "xG2oPJrat3YB"
      },
      "source": [
        "MODEL SELECTION"
      ]
    },
    {
      "cell_type": "code",
      "execution_count": null,
      "metadata": {
        "colab": {
          "base_uri": "https://localhost:8080/"
        },
        "id": "qSTUcFDOt5I-",
        "outputId": "b206e2f1-09c3-45b8-f678-d9ed50f55a10"
      },
      "outputs": [
        {
          "name": "stdout",
          "output_type": "stream",
          "text": [
            "Epoch 1/10\n"
          ]
        },
        {
          "name": "stderr",
          "output_type": "stream",
          "text": [
            "/usr/local/lib/python3.10/dist-packages/keras/src/layers/core/dense.py:87: UserWarning: Do not pass an `input_shape`/`input_dim` argument to a layer. When using Sequential models, prefer using an `Input(shape)` object as the first layer in the model instead.\n",
            "  super().__init__(activity_regularizer=activity_regularizer, **kwargs)\n"
          ]
        },
        {
          "name": "stdout",
          "output_type": "stream",
          "text": [
            "\u001b[1m905/905\u001b[0m \u001b[32m━━━━━━━━━━━━━━━━━━━━\u001b[0m\u001b[37m\u001b[0m \u001b[1m7s\u001b[0m 6ms/step - accuracy: 0.0000e+00 - loss: -134.7001 - val_accuracy: 0.0000e+00 - val_loss: -2379.3689\n",
            "Epoch 2/10\n",
            "\u001b[1m905/905\u001b[0m \u001b[32m━━━━━━━━━━━━━━━━━━━━\u001b[0m\u001b[37m\u001b[0m \u001b[1m6s\u001b[0m 2ms/step - accuracy: 0.0000e+00 - loss: -4710.7393 - val_accuracy: 0.0000e+00 - val_loss: -16519.5469\n",
            "Epoch 3/10\n",
            "\u001b[1m905/905\u001b[0m \u001b[32m━━━━━━━━━━━━━━━━━━━━\u001b[0m\u001b[37m\u001b[0m \u001b[1m3s\u001b[0m 2ms/step - accuracy: 0.0000e+00 - loss: -22210.3398 - val_accuracy: 0.0000e+00 - val_loss: -47766.7461\n",
            "Epoch 4/10\n",
            "\u001b[1m905/905\u001b[0m \u001b[32m━━━━━━━━━━━━━━━━━━━━\u001b[0m\u001b[37m\u001b[0m \u001b[1m4s\u001b[0m 3ms/step - accuracy: 0.0000e+00 - loss: -60350.4688 - val_accuracy: 0.0000e+00 - val_loss: -99053.9609\n",
            "Epoch 5/10\n",
            "\u001b[1m905/905\u001b[0m \u001b[32m━━━━━━━━━━━━━━━━━━━━\u001b[0m\u001b[37m\u001b[0m \u001b[1m4s\u001b[0m 2ms/step - accuracy: 0.0000e+00 - loss: -114530.8359 - val_accuracy: 0.0000e+00 - val_loss: -171942.5625\n",
            "Epoch 6/10\n",
            "\u001b[1m905/905\u001b[0m \u001b[32m━━━━━━━━━━━━━━━━━━━━\u001b[0m\u001b[37m\u001b[0m \u001b[1m3s\u001b[0m 2ms/step - accuracy: 0.0000e+00 - loss: -191354.5000 - val_accuracy: 0.0000e+00 - val_loss: -269180.7500\n",
            "Epoch 7/10\n",
            "\u001b[1m905/905\u001b[0m \u001b[32m━━━━━━━━━━━━━━━━━━━━\u001b[0m\u001b[37m\u001b[0m \u001b[1m2s\u001b[0m 2ms/step - accuracy: 0.0000e+00 - loss: -296210.0625 - val_accuracy: 0.0000e+00 - val_loss: -392453.0312\n",
            "Epoch 8/10\n",
            "\u001b[1m905/905\u001b[0m \u001b[32m━━━━━━━━━━━━━━━━━━━━\u001b[0m\u001b[37m\u001b[0m \u001b[1m3s\u001b[0m 3ms/step - accuracy: 0.0000e+00 - loss: -426616.1875 - val_accuracy: 0.0000e+00 - val_loss: -543373.7500\n",
            "Epoch 9/10\n",
            "\u001b[1m905/905\u001b[0m \u001b[32m━━━━━━━━━━━━━━━━━━━━\u001b[0m\u001b[37m\u001b[0m \u001b[1m4s\u001b[0m 4ms/step - accuracy: 0.0000e+00 - loss: -589200.5000 - val_accuracy: 0.0000e+00 - val_loss: -723879.7500\n",
            "Epoch 10/10\n",
            "\u001b[1m905/905\u001b[0m \u001b[32m━━━━━━━━━━━━━━━━━━━━\u001b[0m\u001b[37m\u001b[0m \u001b[1m2s\u001b[0m 2ms/step - accuracy: 0.0000e+00 - loss: -761831.5625 - val_accuracy: 0.0000e+00 - val_loss: -938013.9375\n"
          ]
        },
        {
          "data": {
            "text/plain": [
              "<keras.src.callbacks.history.History at 0x7ec42004ef50>"
            ]
          },
          "execution_count": 7,
          "metadata": {},
          "output_type": "execute_result"
        }
      ],
      "source": [
        "import tensorflow as tf\n",
        "from tensorflow import keras\n",
        "from tensorflow.keras import layers\n",
        "\n",
        "# Define the ANN model\n",
        "model = keras.Sequential([\n",
        "    layers.Dense(64, activation='relu', input_shape=(X_train.shape[1],)),\n",
        "    layers.Dense(32, activation='relu'),\n",
        "    layers.Dense(1, activation='sigmoid')  # Output layer for binary classification\n",
        "])\n",
        "\n",
        "# Compile the model\n",
        "model.compile(optimizer='adam', loss='binary_crossentropy', metrics=['accuracy'])\n",
        "\n",
        "# Train the model\n",
        "model.fit(X_train, y_train, epochs=10, batch_size=32, validation_split=0.2)\n"
      ]
    },
    {
      "cell_type": "markdown",
      "metadata": {
        "id": "gFDgrV4nuGmt"
      },
      "source": [
        "MODEL EVALUATION"
      ]
    },
    {
      "cell_type": "code",
      "execution_count": null,
      "metadata": {
        "colab": {
          "base_uri": "https://localhost:8080/",
          "height": 790
        },
        "id": "zn6iMI4LuJMs",
        "outputId": "869306ee-dd0d-4fbb-9cdd-eba62cab6162"
      },
      "outputs": [
        {
          "name": "stdout",
          "output_type": "stream",
          "text": [
            "\u001b[1m283/283\u001b[0m \u001b[32m━━━━━━━━━━━━━━━━━━━━\u001b[0m\u001b[37m\u001b[0m \u001b[1m0s\u001b[0m 1ms/step\n",
            "              precision    recall  f1-score   support\n",
            "\n",
            "           0       0.91      0.97      0.94      7952\n",
            "           1       0.58      0.34      0.43      1091\n",
            "\n",
            "    accuracy                           0.89      9043\n",
            "   macro avg       0.75      0.65      0.68      9043\n",
            "weighted avg       0.87      0.89      0.88      9043\n",
            "\n",
            "Confusion Matrix:\n",
            " [[7688  264]\n",
            " [ 721  370]]\n"
          ]
        },
        {
          "data": {
            "image/png": "[encoded data removed]",
            "text/plain": [
              "<Figure size 800x600 with 2 Axes>"
            ]
          },
          "metadata": {},
          "output_type": "display_data"
        }
      ],
      "source": [
        "# Assuming you have a model already trained\n",
        "y_pred_proba = model.predict(X_test)  # Get predicted probabilities directly\n",
        "\n",
        "# For binary classification, we can assume that the model outputs probabilities for the positive class\n",
        "y_pred = (y_pred_proba >= 0.5).astype(int)  # Convert probabilities to binary predictions\n",
        "\n",
        "# Ensure y_test is in binary format\n",
        "y_test = (y_test >= 0.5).astype(int)  # Adjust based on your actual y_test values\n",
        "\n",
        "# Evaluate performance\n",
        "print(classification_report(y_test, y_pred))\n",
        "\n",
        "# Confusion matrix\n",
        "conf_matrix = confusion_matrix(y_test, y_pred)\n",
        "print(\"Confusion Matrix:\\n\", conf_matrix)\n",
        "\n",
        "# Optionally, visualize the confusion matrix\n",
        "import seaborn as sns\n",
        "import matplotlib.pyplot as plt\n",
        "\n",
        "plt.figure(figsize=(8, 6))\n",
        "sns.heatmap(conf_matrix, annot=True, fmt='d', cmap='Blues', xticklabels=['Not Subscribed', 'Subscribed'], yticklabels=['Not Subscribed', 'Subscribed'])\n",
        "plt.ylabel('True label')\n",
        "plt.xlabel('Predicted label')\n",
        "plt.title('Confusion Matrix')\n",
        "plt.show()\n",
        "\n",
        "\n"
      ]
    },
    {
      "cell_type": "markdown",
      "metadata": {
        "id": "pVcttDs6vqZV"
      },
      "source": []
    },
    {
      "cell_type": "code",
      "execution_count": null,
      "metadata": {
        "colab": {
          "base_uri": "https://localhost:8080/"
        },
        "id": "ObwbwkJ9uwX0",
        "outputId": "0211e8f1-9d7f-4715-e337-44598cb824ce"
      },
      "outputs": [
        {
          "name": "stdout",
          "output_type": "stream",
          "text": [
            "{-0.36398261293351625, 2.7473839806261746}\n"
          ]
        }
      ],
      "source": [
        "print(set(y_test))  # Check unique values in y_test\n",
        "\n",
        "\n"
      ]
    },
    {
      "cell_type": "code",
      "execution_count": null,
      "metadata": {
        "id": "jKWtKEwQvLKs"
      },
      "outputs": [],
      "source": [
        "y_test = (y_test >= 0.5).astype(int)  # Adjust according to your data\n"
      ]
    },
    {
      "cell_type": "code",
      "execution_count": null,
      "metadata": {
        "id": "UeC_pR2TvOlW"
      },
      "outputs": [],
      "source": [
        "y_pred = (y_pred_proba >= 0.5).astype(int)  # Convert probabilities to binary predictions\n"
      ]
    },
    {
      "cell_type": "code",
      "execution_count": null,
      "metadata": {
        "colab": {
          "base_uri": "https://localhost:8080/"
        },
        "id": "-wBw0_A4vUKB",
        "outputId": "70ad1c49-f2fa-46a8-b5bf-e73776f07f2a"
      },
      "outputs": [
        {
          "name": "stdout",
          "output_type": "stream",
          "text": [
            "\u001b[1m283/283\u001b[0m \u001b[32m━━━━━━━━━━━━━━━━━━━━\u001b[0m\u001b[37m\u001b[0m \u001b[1m1s\u001b[0m 3ms/step\n",
            "Unique values in y_test: {0, 1}\n",
            "              precision    recall  f1-score   support\n",
            "\n",
            "           0       0.91      0.97      0.94      7952\n",
            "           1       0.58      0.34      0.43      1091\n",
            "\n",
            "    accuracy                           0.89      9043\n",
            "   macro avg       0.75      0.65      0.68      9043\n",
            "weighted avg       0.87      0.89      0.88      9043\n",
            "\n",
            "[[7688  264]\n",
            " [ 721  370]]\n"
          ]
        }
      ],
      "source": [
        "# Assuming X_test and y_test are defined\n",
        "\n",
        "# Get predicted probabilities\n",
        "y_pred_proba = model.predict(X_test)\n",
        "\n",
        "# Convert probabilities to binary predictions using a threshold of 0.5\n",
        "y_pred = (y_pred_proba >= 0.5).astype(int)\n",
        "\n",
        "# Ensure y_test is in binary format\n",
        "y_test = (y_test >= 0.5).astype(int)  # This line may need adjustment based on your actual y_test values\n",
        "\n",
        "# Check the unique values in y_test to ensure it's binary\n",
        "print(\"Unique values in y_test:\", set(y_test))\n",
        "\n",
        "# Evaluate performance\n",
        "print(classification_report(y_test, y_pred))\n",
        "\n",
        "# Confusion matrix\n",
        "print(confusion_matrix(y_test, y_pred))\n"
      ]
    },
    {
      "cell_type": "code",
      "execution_count": null,
      "metadata": {
        "colab": {
          "base_uri": "https://localhost:8080/"
        },
        "id": "drVfE7RYvafM",
        "outputId": "9b32d560-df8a-4c52-f45b-262e9b191f07"
      },
      "outputs": [
        {
          "name": "stdout",
          "output_type": "stream",
          "text": [
            "y_test shape: (9043,) y_pred shape: (9043, 1)\n",
            "y_test type: <class 'pandas.core.series.Series'> y_pred type: <class 'numpy.ndarray'>\n"
          ]
        }
      ],
      "source": [
        "print(\"y_test shape:\", y_test.shape, \"y_pred shape:\", y_pred.shape)\n",
        "print(\"y_test type:\", type(y_test), \"y_pred type:\", type(y_pred))\n"
      ]
    },
    {
      "cell_type": "code",
      "execution_count": null,
      "metadata": {
        "colab": {
          "base_uri": "https://localhost:8080/"
        },
        "id": "amh2qQI6vcji",
        "outputId": "6128b4cd-0481-44d7-b25e-b19a3ea551c1"
      },
      "outputs": [
        {
          "name": "stdout",
          "output_type": "stream",
          "text": [
            "y_test values: 3776     0\n",
            "9928     0\n",
            "33409    0\n",
            "31885    0\n",
            "15738    0\n",
            "30813    0\n",
            "35463    0\n",
            "31382    0\n",
            "16904    0\n",
            "11930    0\n",
            "Name: y, dtype: int64\n",
            "y_pred values: [[0]\n",
            " [0]\n",
            " [0]\n",
            " [1]\n",
            " [0]\n",
            " [0]\n",
            " [0]\n",
            " [0]\n",
            " [0]\n",
            " [0]]\n"
          ]
        }
      ],
      "source": [
        "print(\"y_test values:\", y_test[:10])  # Print the first 10 values of y_test\n",
        "print(\"y_pred values:\", y_pred[:10])  # Print the first 10 values of y_pred\n"
      ]
    },
    {
      "cell_type": "markdown",
      "metadata": {
        "id": "qvPalKHevts_"
      },
      "source": [
        "CROSS VALIDATION"
      ]
    },
    {
      "cell_type": "code",
      "execution_count": null,
      "metadata": {
        "colab": {
          "base_uri": "https://localhost:8080/"
        },
        "id": "Jth7HLocvvo_",
        "outputId": "a47b8c29-9cc9-4206-adb9-3a64d289d809"
      },
      "outputs": [
        {
          "name": "stdout",
          "output_type": "stream",
          "text": [
            "Unique values in y: [-0.36398261  2.74738398]\n"
          ]
        },
        {
          "name": "stderr",
          "output_type": "stream",
          "text": [
            "/usr/local/lib/python3.10/dist-packages/sklearn/neural_network/_multilayer_perceptron.py:690: ConvergenceWarning: Stochastic Optimizer: Maximum iterations (10) reached and the optimization hasn't converged yet.\n",
            "  warnings.warn(\n",
            "/usr/local/lib/python3.10/dist-packages/sklearn/neural_network/_multilayer_perceptron.py:690: ConvergenceWarning: Stochastic Optimizer: Maximum iterations (10) reached and the optimization hasn't converged yet.\n",
            "  warnings.warn(\n",
            "/usr/local/lib/python3.10/dist-packages/sklearn/neural_network/_multilayer_perceptron.py:690: ConvergenceWarning: Stochastic Optimizer: Maximum iterations (10) reached and the optimization hasn't converged yet.\n",
            "  warnings.warn(\n",
            "/usr/local/lib/python3.10/dist-packages/sklearn/neural_network/_multilayer_perceptron.py:690: ConvergenceWarning: Stochastic Optimizer: Maximum iterations (10) reached and the optimization hasn't converged yet.\n",
            "  warnings.warn(\n"
          ]
        },
        {
          "name": "stdout",
          "output_type": "stream",
          "text": [
            "Cross-validation scores: [0.88333518 0.73921699 0.72826808 0.53804468 0.37535943]\n",
            "Mean CV score: 0.6528448720376824\n"
          ]
        },
        {
          "name": "stderr",
          "output_type": "stream",
          "text": [
            "/usr/local/lib/python3.10/dist-packages/sklearn/neural_network/_multilayer_perceptron.py:690: ConvergenceWarning: Stochastic Optimizer: Maximum iterations (10) reached and the optimization hasn't converged yet.\n",
            "  warnings.warn(\n"
          ]
        }
      ],
      "source": [
        "import numpy as np\n",
        "\n",
        "# Assuming your y is the target variable\n",
        "print(\"Unique values in y:\", np.unique(y))\n",
        "\n",
        "# If the values are not 0 and 1, convert them\n",
        "# Example: Convert all values greater than the threshold (e.g., 0.5) to 1, and others to 0\n",
        "threshold = 0.5\n",
        "y_binary = (y > threshold).astype(int)\n",
        "\n",
        "# Now use y_binary in cross-validation\n",
        "cv_scores = cross_val_score(ann, X, y_binary, cv=5)\n",
        "print(\"Cross-validation scores:\", cv_scores)\n",
        "print(\"Mean CV score:\", cv_scores.mean())\n",
        "\n"
      ]
    },
    {
      "cell_type": "code",
      "execution_count": null,
      "metadata": {
        "colab": {
          "base_uri": "https://localhost:8080/"
        },
        "id": "V4lEqu6zwhYM",
        "outputId": "ddaf7fda-acad-4b2b-8eb1-1b8e22259b86"
      },
      "outputs": [
        {
          "name": "stderr",
          "output_type": "stream",
          "text": [
            "/usr/local/lib/python3.10/dist-packages/sklearn/neural_network/_multilayer_perceptron.py:690: ConvergenceWarning: Stochastic Optimizer: Maximum iterations (200) reached and the optimization hasn't converged yet.\n",
            "  warnings.warn(\n",
            "/usr/local/lib/python3.10/dist-packages/sklearn/neural_network/_multilayer_perceptron.py:690: ConvergenceWarning: Stochastic Optimizer: Maximum iterations (200) reached and the optimization hasn't converged yet.\n",
            "  warnings.warn(\n",
            "/usr/local/lib/python3.10/dist-packages/sklearn/neural_network/_multilayer_perceptron.py:690: ConvergenceWarning: Stochastic Optimizer: Maximum iterations (200) reached and the optimization hasn't converged yet.\n",
            "  warnings.warn(\n",
            "/usr/local/lib/python3.10/dist-packages/sklearn/neural_network/_multilayer_perceptron.py:690: ConvergenceWarning: Stochastic Optimizer: Maximum iterations (200) reached and the optimization hasn't converged yet.\n",
            "  warnings.warn(\n"
          ]
        },
        {
          "name": "stdout",
          "output_type": "stream",
          "text": [
            "Cross-validation scores: [0.88046002 0.58504756 0.68823269 0.55032073 0.34494581]\n",
            "Mean CV score: 0.6098013612027354\n"
          ]
        },
        {
          "name": "stderr",
          "output_type": "stream",
          "text": [
            "/usr/local/lib/python3.10/dist-packages/sklearn/neural_network/_multilayer_perceptron.py:690: ConvergenceWarning: Stochastic Optimizer: Maximum iterations (200) reached and the optimization hasn't converged yet.\n",
            "  warnings.warn(\n"
          ]
        }
      ],
      "source": [
        "from sklearn.model_selection import cross_val_score\n",
        "from sklearn.neural_network import MLPClassifier\n",
        "\n",
        "# Assuming X and y have been defined and preprocessed\n",
        "# Ensure y is binary\n",
        "y_binary = (y > threshold).astype(int)\n",
        "\n",
        "# Define your model\n",
        "ann = MLPClassifier(hidden_layer_sizes=(64, 32), max_iter=200, random_state=42)\n",
        "\n",
        "# Using cross-validation\n",
        "cv_scores = cross_val_score(ann, X, y_binary, cv=5)\n",
        "print(\"Cross-validation scores:\", cv_scores)\n",
        "print(\"Mean CV score:\", cv_scores.mean())\n"
      ]
    },
    {
      "cell_type": "markdown",
      "metadata": {
        "id": "YzERAxdax_8m"
      },
      "source": [
        "HYPERPARAMETER TURING"
      ]
    },
    {
      "cell_type": "code",
      "execution_count": null,
      "metadata": {
        "colab": {
          "base_uri": "https://localhost:8080/"
        },
        "id": "FyC-F4CJyKsx",
        "outputId": "1dedeeee-4943-4d40-d990-32e9fc5fefb3"
      },
      "outputs": [
        {
          "name": "stdout",
          "output_type": "stream",
          "text": [
            "Requirement already satisfied: pandas in /usr/local/lib/python3.10/dist-packages (2.2.2)\n",
            "Requirement already satisfied: scikit-learn in /usr/local/lib/python3.10/dist-packages (1.5.2)\n",
            "Requirement already satisfied: numpy>=1.22.4 in /usr/local/lib/python3.10/dist-packages (from pandas) (1.26.4)\n",
            "Requirement already satisfied: python-dateutil>=2.8.2 in /usr/local/lib/python3.10/dist-packages (from pandas) (2.8.2)\n",
            "Requirement already satisfied: pytz>=2020.1 in /usr/local/lib/python3.10/dist-packages (from pandas) (2024.2)\n",
            "Requirement already satisfied: tzdata>=2022.7 in /usr/local/lib/python3.10/dist-packages (from pandas) (2024.2)\n",
            "Requirement already satisfied: scipy>=1.6.0 in /usr/local/lib/python3.10/dist-packages (from scikit-learn) (1.13.1)\n",
            "Requirement already satisfied: joblib>=1.2.0 in /usr/local/lib/python3.10/dist-packages (from scikit-learn) (1.4.2)\n",
            "Requirement already satisfied: threadpoolctl>=3.1.0 in /usr/local/lib/python3.10/dist-packages (from scikit-learn) (3.5.0)\n",
            "Requirement already satisfied: six>=1.5 in /usr/local/lib/python3.10/dist-packages (from python-dateutil>=2.8.2->pandas) (1.16.0)\n"
          ]
        }
      ],
      "source": [
        "!pip install pandas scikit-learn\n",
        "import pandas as pd\n",
        "from sklearn.preprocessing import LabelEncoder\n",
        "\n",
        "# Assuming your data is in a pandas DataFrame called 'data'\n",
        "# Identify columns with non-numerical data\n",
        "categorical_cols = data.select_dtypes(include=['object']).columns\n",
        "\n",
        "# Apply label encoding to each categorical column\n",
        "for col in categorical_cols:\n",
        "    le = LabelEncoder()\n",
        "    data[col] = le.fit_transform(data[col])\n",
        "\n",
        "# Now you can split the data into X and y and use it for training\n",
        "# ... your code for splitting and training ..."
      ]
    },
    {
      "cell_type": "code",
      "execution_count": null,
      "metadata": {
        "id": "GQBAe7XKyiBP"
      },
      "outputs": [],
      "source": [
        "import pandas as pd\n",
        "from sklearn.preprocessing import LabelEncoder\n",
        "\n",
        "# Assuming your data is in a pandas DataFrame called 'data' and y is the target variable\n",
        "# ... your code for splitting and training ...\n",
        "\n",
        "# Convert y to numerical values if it contains strings\n",
        "if y.dtype == 'object':\n",
        "    le = LabelEncoder()\n",
        "    y = le.fit_transform(y)\n",
        "\n",
        "# Convert y to binary if it is not\n",
        "threshold = 0.5  # Adjust this based on your data's context\n",
        "y_binary = (y > threshold).astype(int)\n",
        "\n",
        "# Split your dataset into training and testing sets\n",
        "# ... your code for splitting and training ..."
      ]
    },
    {
      "cell_type": "markdown",
      "metadata": {
        "id": "G5hwdjM7I4Py"
      },
      "source": []
    },
    {
      "cell_type": "code",
      "execution_count": null,
      "metadata": {
        "id": "PgjoZb-oI5Cg"
      },
      "outputs": [],
      "source": [
        "import pandas as pd\n",
        "import zipfile\n",
        "import requests # Import requests module\n",
        "\n",
        "# Load the dataset\n",
        "url = \"https://archive.ics.uci.edu/ml/machine-learning-databases/00222/bank.zip\"\n",
        "\n",
        "# Download the file\n",
        "response = requests.get(url) # Download the file using requests\n",
        "with open(\"bank.zip\", \"wb\") as f: # Open a local file to write the downloaded content\n",
        "    f.write(response.content)\n",
        "\n",
        "# Open the zip file\n",
        "with zipfile.ZipFile(\"bank.zip\") as z: # Access the locally downloaded zip file\n",
        "    # Identify the CSV file (replace 'bank.csv' with the actual filename if different)\n",
        "    csv_file = 'bank.csv'\n",
        "    # Open the csv file within the zip file\n",
        "    with z.open(csv_file) as f:\n",
        "        # Read the dataset\n",
        "        data = pd.read_csv(f, sep=';')\n",
        "\n",
        "# Define X and y\n",
        "X = data.drop('y', axis=1)\n",
        "y = data['y']\n",
        "\n",
        "# Convert y from 'yes'/'no' to binary (1 for yes, 0 for no)\n",
        "y_binary = (y == 'yes').astype(int)\n",
        "\n",
        "# Now proceed with the train-test split and model training\n"
      ]
    },
    {
      "cell_type": "markdown",
      "metadata": {
        "id": "IsBJuVuFNKc5"
      },
      "source": [
        "FINAL EVALUATION"
      ]
    },
    {
      "cell_type": "code",
      "execution_count": null,
      "metadata": {
        "colab": {
          "background_save": true
        },
        "id": "WTt2dMI9NMZY",
        "outputId": "807d683a-a785-44b5-df3f-9a94dcff362c"
      },
      "outputs": [
        {
          "name": "stdout",
          "output_type": "stream",
          "text": [
            "              precision    recall  f1-score   support\n",
            "\n",
            "           0       1.00      1.00      1.00       905\n",
            "\n",
            "    accuracy                           1.00       905\n",
            "   macro avg       1.00      1.00      1.00       905\n",
            "weighted avg       1.00      1.00      1.00       905\n",
            "\n"
          ]
        },
        {
          "name": "stderr",
          "output_type": "stream",
          "text": [
            "/usr/local/lib/python3.10/dist-packages/sklearn/metrics/_ranking.py:1183: UndefinedMetricWarning: No positive samples in y_true, true positive value should be meaningless\n",
            "  warnings.warn(\n"
          ]
        },
        {
          "data": {
            "image/png": "[encoded data removed]",
            "text/plain": [
              "<Figure size 640x480 with 1 Axes>"
            ]
          },
          "metadata": {},
          "output_type": "display_data"
        }
      ],
      "source": [
        "import pandas as pd\n",
        "from sklearn.preprocessing import LabelEncoder, StandardScaler\n",
        "from sklearn.model_selection import train_test_split, GridSearchCV\n",
        "from sklearn.neural_network import MLPClassifier\n",
        "from sklearn.metrics import classification_report, roc_curve, auc\n",
        "import matplotlib.pyplot as plt\n",
        "\n",
        "# Assuming your data is in a pandas DataFrame called 'data' and y is the target variable\n",
        "# ... your code for splitting and training ...\n",
        "\n",
        "# Separate features (X) and target (y)\n",
        "X = data.drop('y', axis=1)\n",
        "y = data['y']\n",
        "\n",
        "# Convert y from 'yes'/'no' to binary (1 for yes, 0 for no)\n",
        "y = (y == 'yes').astype(int)\n",
        "\n",
        "# Identify categorical columns\n",
        "categorical_cols = X.select_dtypes(include=['object']).columns\n",
        "\n",
        "# Apply Label Encoding to categorical features\n",
        "for col in categorical_cols:\n",
        "    le = LabelEncoder()\n",
        "    X[col] = le.fit_transform(X[col])\n",
        "\n",
        "# Split data into training and testing sets\n",
        "X_train, X_test, y_train, y_test = train_test_split(X, y, test_size=0.2, random_state=42)\n",
        "\n",
        "# Scale numerical features using StandardScaler\n",
        "scaler = StandardScaler()\n",
        "X_train = scaler.fit_transform(X_train)\n",
        "X_test = scaler.transform(X_test)\n",
        "\n",
        "# Define the model\n",
        "model = MLPClassifier()\n",
        "\n",
        "# Define the parameter grid for GridSearchCV\n",
        "param_grid = {\n",
        "    # Example parameters - adjust as needed\n",
        "    'hidden_layer_sizes': [(50,), (100,), (50, 50)],\n",
        "    'activation': ['relu', 'tanh'],\n",
        "    'solver': ['adam', 'sgd'],\n",
        "    'alpha': [0.0001, 0.001, 0.01]\n",
        "}\n",
        "\n",
        "# Make sure that 'refit=True' is set in the GridSearchCV constructor.\n",
        "grid_search = GridSearchCV(estimator=model, param_grid=param_grid, cv=5, scoring='accuracy', refit=True)\n",
        "\n",
        "# Fit the grid search to your data\n",
        "grid_search.fit(X_train, y_train)\n",
        "\n",
        "best_model = grid_search.best_estimator_\n",
        "y_test_pred = best_model.predict(X_test)\n",
        "\n",
        "# Evaluate performance\n",
        "print(classification_report(y_test, y_test_pred))\n",
        "\n",
        "# ROC curve for the best model\n",
        "fpr, tpr, thresholds = roc_curve(y_test, best_model.predict_proba(X_test)[:, 1])\n",
        "roc_auc = auc(fpr, tpr)\n",
        "plt.plot(fpr, tpr, label='ROC curve (area = {:.2f})'.format(roc_auc))\n",
        "plt.plot([0, 1], [0, 1], 'k--')\n",
        "plt.title('Receiver Operating Characteristic (ROC)')\n",
        "plt.xlabel('False Positive Rate')\n",
        "plt.ylabel('True Positive Rate')\n",
        "plt.legend()\n",
        "plt.show()\n"
      ]
    }
  ],
  "metadata": {
    "colab": {
      "provenance": []
    },
    "kernelspec": {
      "display_name": "Python 3",
      "name": "python3"
    },
    "language_info": {
      "name": "python"
    }
  },
  "nbformat": 4,
  "nbformat_minor": 0
}