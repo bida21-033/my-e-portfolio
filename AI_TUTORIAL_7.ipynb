{
  "nbformat": 4,
  "nbformat_minor": 0,
  "metadata": {
    "colab": {
      "provenance": []
    },
    "kernelspec": {
      "name": "python3",
      "display_name": "Python 3"
    },
    "language_info": {
      "name": "python"
    }
  },
  "cells": [
    {
      "cell_type": "code",
      "execution_count": null,
      "metadata": {
        "colab": {
          "base_uri": "https://localhost:8080/"
        },
        "id": "IynWHzvTRtrc",
        "outputId": "b48ba162-b888-47f1-ce43-e5d241ad6cc7"
      },
      "outputs": [
        {
          "output_type": "stream",
          "name": "stdout",
          "text": [
            "Requirement already satisfied: nltk in /usr/local/lib/python3.10/dist-packages (3.9.1)\n",
            "Requirement already satisfied: scikit-learn in /usr/local/lib/python3.10/dist-packages (1.5.2)\n",
            "Requirement already satisfied: click in /usr/local/lib/python3.10/dist-packages (from nltk) (8.1.7)\n",
            "Requirement already satisfied: joblib in /usr/local/lib/python3.10/dist-packages (from nltk) (1.4.2)\n",
            "Requirement already satisfied: regex>=2021.8.3 in /usr/local/lib/python3.10/dist-packages (from nltk) (2024.9.11)\n",
            "Requirement already satisfied: tqdm in /usr/local/lib/python3.10/dist-packages (from nltk) (4.66.6)\n",
            "Requirement already satisfied: numpy>=1.19.5 in /usr/local/lib/python3.10/dist-packages (from scikit-learn) (1.26.4)\n",
            "Requirement already satisfied: scipy>=1.6.0 in /usr/local/lib/python3.10/dist-packages (from scikit-learn) (1.13.1)\n",
            "Requirement already satisfied: threadpoolctl>=3.1.0 in /usr/local/lib/python3.10/dist-packages (from scikit-learn) (3.5.0)\n"
          ]
        }
      ],
      "source": [
        "!pip install nltk scikit-learn\n"
      ]
    },
    {
      "cell_type": "code",
      "source": [
        "import nltk\n",
        "nltk.download('punkt')\n",
        "nltk.download('stopwords')\n",
        "nltk.download('wordnet')\n",
        "\n"
      ],
      "metadata": {
        "colab": {
          "base_uri": "https://localhost:8080/"
        },
        "id": "QeOdVX1qSJGl",
        "outputId": "467d0d1e-e16b-4275-c43c-9fe895988990"
      },
      "execution_count": null,
      "outputs": [
        {
          "output_type": "stream",
          "name": "stderr",
          "text": [
            "[nltk_data] Downloading package punkt to /root/nltk_data...\n",
            "[nltk_data]   Unzipping tokenizers/punkt.zip.\n",
            "[nltk_data] Downloading package stopwords to /root/nltk_data...\n",
            "[nltk_data]   Unzipping corpora/stopwords.zip.\n",
            "[nltk_data] Downloading package wordnet to /root/nltk_data...\n"
          ]
        },
        {
          "output_type": "execute_result",
          "data": {
            "text/plain": [
              "True"
            ]
          },
          "metadata": {},
          "execution_count": 2
        }
      ]
    },
    {
      "cell_type": "code",
      "source": [
        "import nltk\n",
        "from nltk.corpus import stopwords\n",
        "from nltk.tokenize import word_tokenize\n",
        "import string\n",
        "\n",
        "text = \"This is a simple example of text preprocessing. It involves cleaning and organizing raw text data into a format suitable for analysis.\"\n",
        "print(\"Original Text: \")\n",
        "print(text)\n",
        "\n"
      ],
      "metadata": {
        "colab": {
          "base_uri": "https://localhost:8080/"
        },
        "id": "Gb4s5az5SN6q",
        "outputId": "ea0252a3-bb8b-47f2-acbb-184f1105bb5a"
      },
      "execution_count": null,
      "outputs": [
        {
          "output_type": "stream",
          "name": "stdout",
          "text": [
            "Original Text: \n",
            "This is a simple example of text preprocessing. It involves cleaning and organizing raw text data into a format suitable for analysis.\n"
          ]
        }
      ]
    },
    {
      "cell_type": "code",
      "source": [
        "text = text.lower()\n",
        "print(\"lower case Text: \")\n",
        "print(text)\n"
      ],
      "metadata": {
        "colab": {
          "base_uri": "https://localhost:8080/"
        },
        "id": "x4h8GOvKSPY8",
        "outputId": "74d544d3-3e20-410c-8787-f85c00546f13"
      },
      "execution_count": null,
      "outputs": [
        {
          "output_type": "stream",
          "name": "stdout",
          "text": [
            "lower case Text: \n",
            "this is a simple example of text preprocessing. it involves cleaning and organizing raw text data into a format suitable for analysis.\n"
          ]
        }
      ]
    },
    {
      "cell_type": "code",
      "source": [
        "text = text.translate(str.maketrans('', '', string.punctuation))\n",
        "print(\"Removed punctuation : \")\n",
        "print(text)\n",
        "\n"
      ],
      "metadata": {
        "colab": {
          "base_uri": "https://localhost:8080/"
        },
        "id": "lF7mfmrUSS7b",
        "outputId": "893cd0a6-8c1e-41b6-f25a-e322dbe001e5"
      },
      "execution_count": null,
      "outputs": [
        {
          "output_type": "stream",
          "name": "stdout",
          "text": [
            "Removed punctuation : \n",
            "this is a simple example of text preprocessing it involves cleaning and organizing raw text data into a format suitable for analysis\n"
          ]
        }
      ]
    },
    {
      "cell_type": "code",
      "source": [
        "import nltk\n",
        "nltk.download('punkt_tab')\n"
      ],
      "metadata": {
        "colab": {
          "base_uri": "https://localhost:8080/"
        },
        "id": "2UiHpbigSWOV",
        "outputId": "f0da0d5e-fbb4-412c-847d-5bfa3e3c263e"
      },
      "execution_count": null,
      "outputs": [
        {
          "output_type": "stream",
          "name": "stderr",
          "text": [
            "[nltk_data] Downloading package punkt_tab to /root/nltk_data...\n",
            "[nltk_data]   Unzipping tokenizers/punkt_tab.zip.\n"
          ]
        },
        {
          "output_type": "execute_result",
          "data": {
            "text/plain": [
              "True"
            ]
          },
          "metadata": {},
          "execution_count": 7
        }
      ]
    },
    {
      "cell_type": "code",
      "source": [
        "import nltk\n",
        "nltk.download('punkt')\n"
      ],
      "metadata": {
        "colab": {
          "base_uri": "https://localhost:8080/"
        },
        "id": "koaDodd-Sm5a",
        "outputId": "a300f19f-badb-4077-8ca9-a7b56c63ebd7"
      },
      "execution_count": null,
      "outputs": [
        {
          "output_type": "stream",
          "name": "stderr",
          "text": [
            "[nltk_data] Downloading package punkt to /root/nltk_data...\n",
            "[nltk_data]   Package punkt is already up-to-date!\n"
          ]
        },
        {
          "output_type": "execute_result",
          "data": {
            "text/plain": [
              "True"
            ]
          },
          "metadata": {},
          "execution_count": 8
        }
      ]
    },
    {
      "cell_type": "code",
      "source": [
        "from nltk.tokenize import word_tokenize, sent_tokenize\n",
        "\n",
        "# Sample text for tokenization\n",
        "text = \"This is an example sentence. Let's split it into tokens and sentences.\"\n",
        "\n",
        "# Tokenize into words\n",
        "words = word_tokenize(text)\n",
        "print(\"Words:\", words)\n",
        "\n",
        "# Tokenize into sentences\n",
        "sentences = sent_tokenize(text)\n",
        "print(\"Sentences:\", sentences)\n",
        "\n"
      ],
      "metadata": {
        "colab": {
          "base_uri": "https://localhost:8080/"
        },
        "id": "k9dbG_QFSo6S",
        "outputId": "21cc07cb-14b1-4653-d2b4-7f2638e2c200"
      },
      "execution_count": null,
      "outputs": [
        {
          "output_type": "stream",
          "name": "stdout",
          "text": [
            "Words: ['This', 'is', 'an', 'example', 'sentence', '.', 'Let', \"'s\", 'split', 'it', 'into', 'tokens', 'and', 'sentences', '.']\n",
            "Sentences: ['This is an example sentence.', \"Let's split it into tokens and sentences.\"]\n"
          ]
        }
      ]
    },
    {
      "cell_type": "code",
      "source": [
        "import nltk\n",
        "nltk.download('punkt')\n",
        "nltk.download('stopwords')\n",
        "nltk.download('wordnet')\n"
      ],
      "metadata": {
        "id": "LtlLwDfiSsoo",
        "outputId": "ce8503e6-f670-436b-a702-367ddbac99ad",
        "colab": {
          "base_uri": "https://localhost:8080/"
        }
      },
      "execution_count": null,
      "outputs": [
        {
          "output_type": "stream",
          "name": "stderr",
          "text": [
            "[nltk_data] Downloading package punkt to /root/nltk_data...\n",
            "[nltk_data]   Package punkt is already up-to-date!\n",
            "[nltk_data] Downloading package stopwords to /root/nltk_data...\n",
            "[nltk_data]   Package stopwords is already up-to-date!\n",
            "[nltk_data] Downloading package wordnet to /root/nltk_data...\n",
            "[nltk_data]   Package wordnet is already up-to-date!\n"
          ]
        },
        {
          "output_type": "execute_result",
          "data": {
            "text/plain": [
              "True"
            ]
          },
          "metadata": {},
          "execution_count": 10
        }
      ]
    },
    {
      "cell_type": "code",
      "source": [
        "from nltk.corpus import stopwords\n",
        "from nltk.tokenize import word_tokenize\n",
        "import string\n",
        "from nltk.stem import WordNetLemmatizer\n",
        "\n",
        "# Sample text for preprocessing\n",
        "text = \"This is an example sentence. Let's split it into tokens and perform preprocessing.\"\n",
        "\n",
        "print(\"Original Text: \")\n",
        "print(text)\n",
        "\n",
        "# 3. Convert text to lowercase\n",
        "text = text.lower()\n",
        "print(\"\\nLowercase Text: \")\n",
        "print(text)\n",
        "\n",
        "# 4. Remove punctuation\n",
        "text = text.translate(str.maketrans('', '', string.punctuation))\n",
        "print(\"\\nText without punctuation: \")\n",
        "print(text)\n",
        "\n",
        "# 5. Tokenize the text into words\n",
        "tokens = word_tokenize(text)\n",
        "print(\"\\nTokenized Text: \")\n",
        "print(tokens)\n",
        "\n",
        "# 6. Remove stopwords\n",
        "stop_words = set(stopwords.words('english'))\n",
        "filtered_tokens = [word for word in tokens if word not in stop_words]\n",
        "print(\"\\nTokens after removing stopwords: \")\n",
        "print(filtered_tokens)\n",
        "\n",
        "# 7. Lemmatization\n",
        "lemmatizer = WordNetLemmatizer()\n",
        "lemmatized_tokens = [lemmatizer.lemmatize(word) for word in filtered_tokens]\n",
        "print(\"\\nLemmatized Tokens: \")\n",
        "print(lemmatized_tokens)\n",
        "\n"
      ],
      "metadata": {
        "id": "AgjbEOGFSwDl",
        "outputId": "142a1fdb-e5f2-471b-ac17-9c20f53225c2",
        "colab": {
          "base_uri": "https://localhost:8080/"
        }
      },
      "execution_count": null,
      "outputs": [
        {
          "output_type": "stream",
          "name": "stdout",
          "text": [
            "Original Text: \n",
            "This is an example sentence. Let's split it into tokens and perform preprocessing.\n",
            "\n",
            "Lowercase Text: \n",
            "this is an example sentence. let's split it into tokens and perform preprocessing.\n",
            "\n",
            "Text without punctuation: \n",
            "this is an example sentence lets split it into tokens and perform preprocessing\n",
            "\n",
            "Tokenized Text: \n",
            "['this', 'is', 'an', 'example', 'sentence', 'lets', 'split', 'it', 'into', 'tokens', 'and', 'perform', 'preprocessing']\n",
            "\n",
            "Tokens after removing stopwords: \n",
            "['example', 'sentence', 'lets', 'split', 'tokens', 'perform', 'preprocessing']\n",
            "\n",
            "Lemmatized Tokens: \n",
            "['example', 'sentence', 'let', 'split', 'token', 'perform', 'preprocessing']\n"
          ]
        }
      ]
    }
  ]
}